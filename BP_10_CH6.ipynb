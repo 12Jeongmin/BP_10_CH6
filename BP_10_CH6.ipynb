{
  "nbformat": 4,
  "nbformat_minor": 0,
  "metadata": {
    "colab": {
      "provenance": [],
      "authorship_tag": "ABX9TyNgPsk41TrHfR3du3ytsr0+",
      "include_colab_link": true
    },
    "kernelspec": {
      "name": "python3",
      "display_name": "Python 3"
    },
    "language_info": {
      "name": "python"
    }
  },
  "cells": [
    {
      "cell_type": "markdown",
      "metadata": {
        "id": "view-in-github",
        "colab_type": "text"
      },
      "source": [
        "<a href=\"https://colab.research.google.com/github/12Jeongmin/BP_10_CH6/blob/main/BP_10_CH6.ipynb\" target=\"_parent\"><img src=\"https://colab.research.google.com/assets/colab-badge.svg\" alt=\"Open In Colab\"/></a>"
      ]
    },
    {
      "cell_type": "code",
      "execution_count": 3,
      "metadata": {
        "colab": {
          "base_uri": "https://localhost:8080/"
        },
        "id": "oYymdrVlD3pL",
        "outputId": "2406683e-4330-46f9-d80e-ba04e24da9ea"
      },
      "outputs": [
        {
          "output_type": "stream",
          "name": "stdout",
          "text": [
            "2 4 6 8 10 12 14 16 18 20 22 24 26 28 30 32 34 36 38 40 42 44 46 48 50 52 54 56 58 60 62 64 66 68 70 72 74 76 78 80 82 84 86 88 90 92 94 96 98 100 "
          ]
        }
      ],
      "source": [
        "for i in range(2, 101):    # range(시작,끝)으로 반복 루프를 설정한다\n",
        "  if i%2==0 : \n",
        "    print(i,end = \" \")"
      ]
    },
    {
      "cell_type": "code",
      "source": [
        "year = 0\n",
        "balance = 1000\n",
        "\n",
        "while balance <= 2000 :       # balance가 선언된 값이 while문에 들어갔을 경우 balance >= 2000라는 조건을 충족하기 못하기 때문에 <으로 바꿔준다.\n",
        "  year = year + 1\n",
        "  interest = balance * 0.07\n",
        "  balance = balance + interest\n",
        "print(year, \"년이 걸립니다.\")"
      ],
      "metadata": {
        "colab": {
          "base_uri": "https://localhost:8080/"
        },
        "id": "izSvZyyYEgcR",
        "outputId": "505daa17-267b-4fb6-bff3-543e41769ae3"
      },
      "execution_count": 6,
      "outputs": [
        {
          "output_type": "stream",
          "name": "stdout",
          "text": [
            "11 년이 걸립니다.\n"
          ]
        }
      ]
    },
    {
      "cell_type": "code",
      "source": [
        "n = 1234\n",
        "sum = 0\n",
        "while n > 0 :        # while의 조건은 n이 0을 초과하는 경우이다.\n",
        "  digit = n % 10     # %는 나머지를 연산하는 값\n",
        "  sum = sum + digit  \n",
        "  n = n // 10\n",
        "print(sum)"
      ],
      "metadata": {
        "colab": {
          "base_uri": "https://localhost:8080/"
        },
        "id": "w3sEhKYIFY-w",
        "outputId": "36016011-b49e-4019-8b53-27308856fe6d"
      },
      "execution_count": 7,
      "outputs": [
        {
          "output_type": "stream",
          "name": "stdout",
          "text": [
            "10\n"
          ]
        }
      ]
    },
    {
      "cell_type": "code",
      "source": [
        "ans = 0\n",
        "while ans != 3*9:                 # while의 조건은 3*9의 정답이다.\n",
        "  ans = int(input(\"3*9는\"))\n",
        "print(\"맞았습니다.\")"
      ],
      "metadata": {
        "colab": {
          "base_uri": "https://localhost:8080/"
        },
        "id": "kx1hiV8IGeCJ",
        "outputId": "c51fc99c-312b-47dd-ccd0-55d41f2d12b4"
      },
      "execution_count": 10,
      "outputs": [
        {
          "output_type": "stream",
          "name": "stdout",
          "text": [
            "3*9는27\n",
            "맞았습니다.\n"
          ]
        }
      ]
    },
    {
      "cell_type": "code",
      "source": [
        "sum = 0                      \n",
        "while True:                   # 0이 입력되기 전까지 무한 반복을 위해 while문의 조건을 True로 지정한다.\n",
        "  x = int(input(\"정수를 입력하시오: \"))\n",
        "  if x == 0:\n",
        "    break;           # 이후 값을 입력 받았을때 0이면 break아니면 변수 sum에 x값을 더한다.\n",
        "    sum = sum + x\n",
        "\n",
        "print(\"합은\",sum,\"입니다.\")      # 0이 나오면 프로그램을 종료 후 print로 값을 출력한다."
      ],
      "metadata": {
        "colab": {
          "base_uri": "https://localhost:8080/"
        },
        "id": "ikDyoHdHHFPg",
        "outputId": "f230b8b6-b8a8-4332-949f-c55a4e9c0bf6"
      },
      "execution_count": 14,
      "outputs": [
        {
          "output_type": "stream",
          "name": "stdout",
          "text": [
            "정수를 입력하시오: 13\n",
            "정수를 입력하시오: 0\n",
            "합은 0 입니다.\n"
          ]
        }
      ]
    },
    {
      "cell_type": "code",
      "source": [
        "from random import randint\n",
        "# 2개의 수를 random 함수를 통해서 출력한다\n",
        "for i in range(3) : \n",
        "  d1 = randint(1, 6)\n",
        "  d2 = randint(1, 6)\n",
        "  print(\"첫번째 주사위=\", d1, \"두번째 주사위=\", d2)"
      ],
      "metadata": {
        "colab": {
          "base_uri": "https://localhost:8080/"
        },
        "id": "ymzO1ovYHpYT",
        "outputId": "a3ae7e51-6978-4468-a463-f8cff2358469"
      },
      "execution_count": 15,
      "outputs": [
        {
          "output_type": "stream",
          "name": "stdout",
          "text": [
            "첫번째 주사위= 6 두번째 주사위= 6\n",
            "첫번째 주사위= 6 두번째 주사위= 5\n",
            "첫번째 주사위= 2 두번째 주사위= 1\n"
          ]
        }
      ]
    }
  ]
}